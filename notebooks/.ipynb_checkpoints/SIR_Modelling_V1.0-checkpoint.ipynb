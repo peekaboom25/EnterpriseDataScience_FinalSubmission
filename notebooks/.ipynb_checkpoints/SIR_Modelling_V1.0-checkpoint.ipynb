{
 "cells": [
  {
   "cell_type": "markdown",
   "metadata": {},
   "source": [
    "# SIR modelling using "
   ]
  },
  {
   "cell_type": "code",
   "execution_count": 1,
   "metadata": {},
   "outputs": [],
   "source": [
    "from click import style\n",
    "import numpy as np\n",
    "import pandas as pd\n",
    "from datetime import datetime \n",
    "\n",
    "from scipy import optimize\n",
    "from scipy import integrate\n",
    "\n",
    "%matplotlib inline\n",
    "\n",
    "import matplotlib as mpl\n",
    "import matplotlib.pyplot as plt\n",
    "\n",
    "import seaborn as sns\n",
    "\n",
    "sns.set(style='darkgrid')\n",
    "\n",
    "mpl.rcParams['figure.figsize'] = (16,9)\n",
    "pd.set_option('display.max_rows', 500)"
   ]
  },
  {
   "cell_type": "markdown",
   "metadata": {},
   "source": [
    "Reading the data from the csv file"
   ]
  },
  {
   "cell_type": "code",
   "execution_count": 2,
   "metadata": {},
   "outputs": [
    {
     "data": {
      "text/html": [
       "<div>\n",
       "<style scoped>\n",
       "    .dataframe tbody tr th:only-of-type {\n",
       "        vertical-align: middle;\n",
       "    }\n",
       "\n",
       "    .dataframe tbody tr th {\n",
       "        vertical-align: top;\n",
       "    }\n",
       "\n",
       "    .dataframe thead th {\n",
       "        text-align: right;\n",
       "    }\n",
       "</style>\n",
       "<table border=\"1\" class=\"dataframe\">\n",
       "  <thead>\n",
       "    <tr style=\"text-align: right;\">\n",
       "      <th></th>\n",
       "      <th>date</th>\n",
       "      <th>India</th>\n",
       "      <th>US</th>\n",
       "      <th>Italy</th>\n",
       "      <th>France</th>\n",
       "      <th>Vietnam</th>\n",
       "      <th>Germany</th>\n",
       "    </tr>\n",
       "  </thead>\n",
       "  <tbody>\n",
       "    <tr>\n",
       "      <th>0</th>\n",
       "      <td>2020-01-22</td>\n",
       "      <td>0</td>\n",
       "      <td>1</td>\n",
       "      <td>0</td>\n",
       "      <td>0</td>\n",
       "      <td>0</td>\n",
       "      <td>0</td>\n",
       "    </tr>\n",
       "    <tr>\n",
       "      <th>1</th>\n",
       "      <td>2020-01-23</td>\n",
       "      <td>0</td>\n",
       "      <td>1</td>\n",
       "      <td>0</td>\n",
       "      <td>0</td>\n",
       "      <td>2</td>\n",
       "      <td>0</td>\n",
       "    </tr>\n",
       "    <tr>\n",
       "      <th>2</th>\n",
       "      <td>2020-01-24</td>\n",
       "      <td>0</td>\n",
       "      <td>2</td>\n",
       "      <td>0</td>\n",
       "      <td>2</td>\n",
       "      <td>2</td>\n",
       "      <td>0</td>\n",
       "    </tr>\n",
       "    <tr>\n",
       "      <th>3</th>\n",
       "      <td>2020-01-25</td>\n",
       "      <td>0</td>\n",
       "      <td>2</td>\n",
       "      <td>0</td>\n",
       "      <td>3</td>\n",
       "      <td>2</td>\n",
       "      <td>0</td>\n",
       "    </tr>\n",
       "    <tr>\n",
       "      <th>4</th>\n",
       "      <td>2020-01-26</td>\n",
       "      <td>0</td>\n",
       "      <td>5</td>\n",
       "      <td>0</td>\n",
       "      <td>3</td>\n",
       "      <td>2</td>\n",
       "      <td>0</td>\n",
       "    </tr>\n",
       "  </tbody>\n",
       "</table>\n",
       "</div>"
      ],
      "text/plain": [
       "         date  India  US  Italy  France  Vietnam  Germany\n",
       "0  2020-01-22      0   1      0       0        0        0\n",
       "1  2020-01-23      0   1      0       0        2        0\n",
       "2  2020-01-24      0   2      0       2        2        0\n",
       "3  2020-01-25      0   2      0       3        2        0\n",
       "4  2020-01-26      0   5      0       3        2        0"
      ]
     },
     "execution_count": 2,
     "metadata": {},
     "output_type": "execute_result"
    }
   ],
   "source": [
    "df_analyse = pd.read_csv('../data/processed/COVID_small_flat_table.csv',sep = ';')\n",
    "df_analyse.sort_values('date', ascending=True).head()\n"
   ]
  },
  {
   "cell_type": "markdown",
   "metadata": {},
   "source": [
    "Preparing the base values for the model"
   ]
  },
  {
   "cell_type": "code",
   "execution_count": 3,
   "metadata": {},
   "outputs": [],
   "source": [
    "N0 = 1000000\n",
    "beta = 0.4\n",
    "gamma = 0.1\n",
    "\n",
    "I0 = df_analyse.Germany[41]\n",
    "S0 = N0 - I0\n",
    "R0 =0\n",
    "\n"
   ]
  },
  {
   "cell_type": "code",
   "execution_count": null,
   "metadata": {},
   "outputs": [],
   "source": []
  },
  {
   "cell_type": "markdown",
   "metadata": {},
   "source": [
    "Defining the model for SIR"
   ]
  },
  {
   "cell_type": "code",
   "execution_count": 4,
   "metadata": {},
   "outputs": [],
   "source": [
    "def SIR_model(SIR, beta, gamma):\n",
    "    S,I,R = SIR\n",
    "    ds_dt = -beta*S*I/N0\n",
    "    dI_dt = beta*S*I/N0-gamma*I\n",
    "    dR_dt = gamma*I\n",
    "\n",
    "    return ([ds_dt, dI_dt, dR_dt])"
   ]
  },
  {
   "cell_type": "markdown",
   "metadata": {},
   "source": [
    "# Simulative approach for calculating the SIR curve"
   ]
  },
  {
   "cell_type": "code",
   "execution_count": 5,
   "metadata": {},
   "outputs": [
    {
     "name": "stderr",
     "output_type": "stream",
     "text": [
      "C:\\Users\\athar\\AppData\\Local\\Temp\\ipykernel_8884\\3919566462.py:14: FutureWarning: The frame.append method is deprecated and will be removed from pandas in a future version. Use pandas.concat instead.\n",
      "  propagation_rates=propagation_rates.append({'susceptible':SIR[0],\n",
      "C:\\Users\\athar\\AppData\\Local\\Temp\\ipykernel_8884\\3919566462.py:14: FutureWarning: The frame.append method is deprecated and will be removed from pandas in a future version. Use pandas.concat instead.\n",
      "  propagation_rates=propagation_rates.append({'susceptible':SIR[0],\n",
      "C:\\Users\\athar\\AppData\\Local\\Temp\\ipykernel_8884\\3919566462.py:14: FutureWarning: The frame.append method is deprecated and will be removed from pandas in a future version. Use pandas.concat instead.\n",
      "  propagation_rates=propagation_rates.append({'susceptible':SIR[0],\n",
      "C:\\Users\\athar\\AppData\\Local\\Temp\\ipykernel_8884\\3919566462.py:14: FutureWarning: The frame.append method is deprecated and will be removed from pandas in a future version. Use pandas.concat instead.\n",
      "  propagation_rates=propagation_rates.append({'susceptible':SIR[0],\n",
      "C:\\Users\\athar\\AppData\\Local\\Temp\\ipykernel_8884\\3919566462.py:14: FutureWarning: The frame.append method is deprecated and will be removed from pandas in a future version. Use pandas.concat instead.\n",
      "  propagation_rates=propagation_rates.append({'susceptible':SIR[0],\n",
      "C:\\Users\\athar\\AppData\\Local\\Temp\\ipykernel_8884\\3919566462.py:14: FutureWarning: The frame.append method is deprecated and will be removed from pandas in a future version. Use pandas.concat instead.\n",
      "  propagation_rates=propagation_rates.append({'susceptible':SIR[0],\n",
      "C:\\Users\\athar\\AppData\\Local\\Temp\\ipykernel_8884\\3919566462.py:14: FutureWarning: The frame.append method is deprecated and will be removed from pandas in a future version. Use pandas.concat instead.\n",
      "  propagation_rates=propagation_rates.append({'susceptible':SIR[0],\n",
      "C:\\Users\\athar\\AppData\\Local\\Temp\\ipykernel_8884\\3919566462.py:14: FutureWarning: The frame.append method is deprecated and will be removed from pandas in a future version. Use pandas.concat instead.\n",
      "  propagation_rates=propagation_rates.append({'susceptible':SIR[0],\n",
      "C:\\Users\\athar\\AppData\\Local\\Temp\\ipykernel_8884\\3919566462.py:14: FutureWarning: The frame.append method is deprecated and will be removed from pandas in a future version. Use pandas.concat instead.\n",
      "  propagation_rates=propagation_rates.append({'susceptible':SIR[0],\n",
      "C:\\Users\\athar\\AppData\\Local\\Temp\\ipykernel_8884\\3919566462.py:14: FutureWarning: The frame.append method is deprecated and will be removed from pandas in a future version. Use pandas.concat instead.\n",
      "  propagation_rates=propagation_rates.append({'susceptible':SIR[0],\n",
      "C:\\Users\\athar\\AppData\\Local\\Temp\\ipykernel_8884\\3919566462.py:14: FutureWarning: The frame.append method is deprecated and will be removed from pandas in a future version. Use pandas.concat instead.\n",
      "  propagation_rates=propagation_rates.append({'susceptible':SIR[0],\n",
      "C:\\Users\\athar\\AppData\\Local\\Temp\\ipykernel_8884\\3919566462.py:14: FutureWarning: The frame.append method is deprecated and will be removed from pandas in a future version. Use pandas.concat instead.\n",
      "  propagation_rates=propagation_rates.append({'susceptible':SIR[0],\n",
      "C:\\Users\\athar\\AppData\\Local\\Temp\\ipykernel_8884\\3919566462.py:14: FutureWarning: The frame.append method is deprecated and will be removed from pandas in a future version. Use pandas.concat instead.\n",
      "  propagation_rates=propagation_rates.append({'susceptible':SIR[0],\n",
      "C:\\Users\\athar\\AppData\\Local\\Temp\\ipykernel_8884\\3919566462.py:14: FutureWarning: The frame.append method is deprecated and will be removed from pandas in a future version. Use pandas.concat instead.\n",
      "  propagation_rates=propagation_rates.append({'susceptible':SIR[0],\n",
      "C:\\Users\\athar\\AppData\\Local\\Temp\\ipykernel_8884\\3919566462.py:14: FutureWarning: The frame.append method is deprecated and will be removed from pandas in a future version. Use pandas.concat instead.\n",
      "  propagation_rates=propagation_rates.append({'susceptible':SIR[0],\n",
      "C:\\Users\\athar\\AppData\\Local\\Temp\\ipykernel_8884\\3919566462.py:14: FutureWarning: The frame.append method is deprecated and will be removed from pandas in a future version. Use pandas.concat instead.\n",
      "  propagation_rates=propagation_rates.append({'susceptible':SIR[0],\n",
      "C:\\Users\\athar\\AppData\\Local\\Temp\\ipykernel_8884\\3919566462.py:14: FutureWarning: The frame.append method is deprecated and will be removed from pandas in a future version. Use pandas.concat instead.\n",
      "  propagation_rates=propagation_rates.append({'susceptible':SIR[0],\n",
      "C:\\Users\\athar\\AppData\\Local\\Temp\\ipykernel_8884\\3919566462.py:14: FutureWarning: The frame.append method is deprecated and will be removed from pandas in a future version. Use pandas.concat instead.\n",
      "  propagation_rates=propagation_rates.append({'susceptible':SIR[0],\n",
      "C:\\Users\\athar\\AppData\\Local\\Temp\\ipykernel_8884\\3919566462.py:14: FutureWarning: The frame.append method is deprecated and will be removed from pandas in a future version. Use pandas.concat instead.\n",
      "  propagation_rates=propagation_rates.append({'susceptible':SIR[0],\n",
      "C:\\Users\\athar\\AppData\\Local\\Temp\\ipykernel_8884\\3919566462.py:14: FutureWarning: The frame.append method is deprecated and will be removed from pandas in a future version. Use pandas.concat instead.\n",
      "  propagation_rates=propagation_rates.append({'susceptible':SIR[0],\n",
      "C:\\Users\\athar\\AppData\\Local\\Temp\\ipykernel_8884\\3919566462.py:14: FutureWarning: The frame.append method is deprecated and will be removed from pandas in a future version. Use pandas.concat instead.\n",
      "  propagation_rates=propagation_rates.append({'susceptible':SIR[0],\n",
      "C:\\Users\\athar\\AppData\\Local\\Temp\\ipykernel_8884\\3919566462.py:14: FutureWarning: The frame.append method is deprecated and will be removed from pandas in a future version. Use pandas.concat instead.\n",
      "  propagation_rates=propagation_rates.append({'susceptible':SIR[0],\n",
      "C:\\Users\\athar\\AppData\\Local\\Temp\\ipykernel_8884\\3919566462.py:14: FutureWarning: The frame.append method is deprecated and will be removed from pandas in a future version. Use pandas.concat instead.\n",
      "  propagation_rates=propagation_rates.append({'susceptible':SIR[0],\n",
      "C:\\Users\\athar\\AppData\\Local\\Temp\\ipykernel_8884\\3919566462.py:14: FutureWarning: The frame.append method is deprecated and will be removed from pandas in a future version. Use pandas.concat instead.\n",
      "  propagation_rates=propagation_rates.append({'susceptible':SIR[0],\n",
      "C:\\Users\\athar\\AppData\\Local\\Temp\\ipykernel_8884\\3919566462.py:14: FutureWarning: The frame.append method is deprecated and will be removed from pandas in a future version. Use pandas.concat instead.\n",
      "  propagation_rates=propagation_rates.append({'susceptible':SIR[0],\n",
      "C:\\Users\\athar\\AppData\\Local\\Temp\\ipykernel_8884\\3919566462.py:14: FutureWarning: The frame.append method is deprecated and will be removed from pandas in a future version. Use pandas.concat instead.\n",
      "  propagation_rates=propagation_rates.append({'susceptible':SIR[0],\n",
      "C:\\Users\\athar\\AppData\\Local\\Temp\\ipykernel_8884\\3919566462.py:14: FutureWarning: The frame.append method is deprecated and will be removed from pandas in a future version. Use pandas.concat instead.\n",
      "  propagation_rates=propagation_rates.append({'susceptible':SIR[0],\n",
      "C:\\Users\\athar\\AppData\\Local\\Temp\\ipykernel_8884\\3919566462.py:14: FutureWarning: The frame.append method is deprecated and will be removed from pandas in a future version. Use pandas.concat instead.\n",
      "  propagation_rates=propagation_rates.append({'susceptible':SIR[0],\n",
      "C:\\Users\\athar\\AppData\\Local\\Temp\\ipykernel_8884\\3919566462.py:14: FutureWarning: The frame.append method is deprecated and will be removed from pandas in a future version. Use pandas.concat instead.\n",
      "  propagation_rates=propagation_rates.append({'susceptible':SIR[0],\n",
      "C:\\Users\\athar\\AppData\\Local\\Temp\\ipykernel_8884\\3919566462.py:14: FutureWarning: The frame.append method is deprecated and will be removed from pandas in a future version. Use pandas.concat instead.\n",
      "  propagation_rates=propagation_rates.append({'susceptible':SIR[0],\n",
      "C:\\Users\\athar\\AppData\\Local\\Temp\\ipykernel_8884\\3919566462.py:14: FutureWarning: The frame.append method is deprecated and will be removed from pandas in a future version. Use pandas.concat instead.\n",
      "  propagation_rates=propagation_rates.append({'susceptible':SIR[0],\n",
      "C:\\Users\\athar\\AppData\\Local\\Temp\\ipykernel_8884\\3919566462.py:14: FutureWarning: The frame.append method is deprecated and will be removed from pandas in a future version. Use pandas.concat instead.\n",
      "  propagation_rates=propagation_rates.append({'susceptible':SIR[0],\n",
      "C:\\Users\\athar\\AppData\\Local\\Temp\\ipykernel_8884\\3919566462.py:14: FutureWarning: The frame.append method is deprecated and will be removed from pandas in a future version. Use pandas.concat instead.\n",
      "  propagation_rates=propagation_rates.append({'susceptible':SIR[0],\n",
      "C:\\Users\\athar\\AppData\\Local\\Temp\\ipykernel_8884\\3919566462.py:14: FutureWarning: The frame.append method is deprecated and will be removed from pandas in a future version. Use pandas.concat instead.\n",
      "  propagation_rates=propagation_rates.append({'susceptible':SIR[0],\n",
      "C:\\Users\\athar\\AppData\\Local\\Temp\\ipykernel_8884\\3919566462.py:14: FutureWarning: The frame.append method is deprecated and will be removed from pandas in a future version. Use pandas.concat instead.\n",
      "  propagation_rates=propagation_rates.append({'susceptible':SIR[0],\n",
      "C:\\Users\\athar\\AppData\\Local\\Temp\\ipykernel_8884\\3919566462.py:14: FutureWarning: The frame.append method is deprecated and will be removed from pandas in a future version. Use pandas.concat instead.\n",
      "  propagation_rates=propagation_rates.append({'susceptible':SIR[0],\n",
      "C:\\Users\\athar\\AppData\\Local\\Temp\\ipykernel_8884\\3919566462.py:14: FutureWarning: The frame.append method is deprecated and will be removed from pandas in a future version. Use pandas.concat instead.\n",
      "  propagation_rates=propagation_rates.append({'susceptible':SIR[0],\n",
      "C:\\Users\\athar\\AppData\\Local\\Temp\\ipykernel_8884\\3919566462.py:14: FutureWarning: The frame.append method is deprecated and will be removed from pandas in a future version. Use pandas.concat instead.\n",
      "  propagation_rates=propagation_rates.append({'susceptible':SIR[0],\n",
      "C:\\Users\\athar\\AppData\\Local\\Temp\\ipykernel_8884\\3919566462.py:14: FutureWarning: The frame.append method is deprecated and will be removed from pandas in a future version. Use pandas.concat instead.\n",
      "  propagation_rates=propagation_rates.append({'susceptible':SIR[0],\n",
      "C:\\Users\\athar\\AppData\\Local\\Temp\\ipykernel_8884\\3919566462.py:14: FutureWarning: The frame.append method is deprecated and will be removed from pandas in a future version. Use pandas.concat instead.\n",
      "  propagation_rates=propagation_rates.append({'susceptible':SIR[0],\n",
      "C:\\Users\\athar\\AppData\\Local\\Temp\\ipykernel_8884\\3919566462.py:14: FutureWarning: The frame.append method is deprecated and will be removed from pandas in a future version. Use pandas.concat instead.\n",
      "  propagation_rates=propagation_rates.append({'susceptible':SIR[0],\n"
     ]
    },
    {
     "name": "stderr",
     "output_type": "stream",
     "text": [
      "C:\\Users\\athar\\AppData\\Local\\Temp\\ipykernel_8884\\3919566462.py:14: FutureWarning: The frame.append method is deprecated and will be removed from pandas in a future version. Use pandas.concat instead.\n",
      "  propagation_rates=propagation_rates.append({'susceptible':SIR[0],\n",
      "C:\\Users\\athar\\AppData\\Local\\Temp\\ipykernel_8884\\3919566462.py:14: FutureWarning: The frame.append method is deprecated and will be removed from pandas in a future version. Use pandas.concat instead.\n",
      "  propagation_rates=propagation_rates.append({'susceptible':SIR[0],\n",
      "C:\\Users\\athar\\AppData\\Local\\Temp\\ipykernel_8884\\3919566462.py:14: FutureWarning: The frame.append method is deprecated and will be removed from pandas in a future version. Use pandas.concat instead.\n",
      "  propagation_rates=propagation_rates.append({'susceptible':SIR[0],\n",
      "C:\\Users\\athar\\AppData\\Local\\Temp\\ipykernel_8884\\3919566462.py:14: FutureWarning: The frame.append method is deprecated and will be removed from pandas in a future version. Use pandas.concat instead.\n",
      "  propagation_rates=propagation_rates.append({'susceptible':SIR[0],\n",
      "C:\\Users\\athar\\AppData\\Local\\Temp\\ipykernel_8884\\3919566462.py:14: FutureWarning: The frame.append method is deprecated and will be removed from pandas in a future version. Use pandas.concat instead.\n",
      "  propagation_rates=propagation_rates.append({'susceptible':SIR[0],\n",
      "C:\\Users\\athar\\AppData\\Local\\Temp\\ipykernel_8884\\3919566462.py:14: FutureWarning: The frame.append method is deprecated and will be removed from pandas in a future version. Use pandas.concat instead.\n",
      "  propagation_rates=propagation_rates.append({'susceptible':SIR[0],\n",
      "C:\\Users\\athar\\AppData\\Local\\Temp\\ipykernel_8884\\3919566462.py:14: FutureWarning: The frame.append method is deprecated and will be removed from pandas in a future version. Use pandas.concat instead.\n",
      "  propagation_rates=propagation_rates.append({'susceptible':SIR[0],\n",
      "C:\\Users\\athar\\AppData\\Local\\Temp\\ipykernel_8884\\3919566462.py:14: FutureWarning: The frame.append method is deprecated and will be removed from pandas in a future version. Use pandas.concat instead.\n",
      "  propagation_rates=propagation_rates.append({'susceptible':SIR[0],\n",
      "C:\\Users\\athar\\AppData\\Local\\Temp\\ipykernel_8884\\3919566462.py:14: FutureWarning: The frame.append method is deprecated and will be removed from pandas in a future version. Use pandas.concat instead.\n",
      "  propagation_rates=propagation_rates.append({'susceptible':SIR[0],\n",
      "C:\\Users\\athar\\AppData\\Local\\Temp\\ipykernel_8884\\3919566462.py:14: FutureWarning: The frame.append method is deprecated and will be removed from pandas in a future version. Use pandas.concat instead.\n",
      "  propagation_rates=propagation_rates.append({'susceptible':SIR[0],\n",
      "C:\\Users\\athar\\AppData\\Local\\Temp\\ipykernel_8884\\3919566462.py:14: FutureWarning: The frame.append method is deprecated and will be removed from pandas in a future version. Use pandas.concat instead.\n",
      "  propagation_rates=propagation_rates.append({'susceptible':SIR[0],\n",
      "C:\\Users\\athar\\AppData\\Local\\Temp\\ipykernel_8884\\3919566462.py:14: FutureWarning: The frame.append method is deprecated and will be removed from pandas in a future version. Use pandas.concat instead.\n",
      "  propagation_rates=propagation_rates.append({'susceptible':SIR[0],\n",
      "C:\\Users\\athar\\AppData\\Local\\Temp\\ipykernel_8884\\3919566462.py:14: FutureWarning: The frame.append method is deprecated and will be removed from pandas in a future version. Use pandas.concat instead.\n",
      "  propagation_rates=propagation_rates.append({'susceptible':SIR[0],\n",
      "C:\\Users\\athar\\AppData\\Local\\Temp\\ipykernel_8884\\3919566462.py:14: FutureWarning: The frame.append method is deprecated and will be removed from pandas in a future version. Use pandas.concat instead.\n",
      "  propagation_rates=propagation_rates.append({'susceptible':SIR[0],\n",
      "C:\\Users\\athar\\AppData\\Local\\Temp\\ipykernel_8884\\3919566462.py:14: FutureWarning: The frame.append method is deprecated and will be removed from pandas in a future version. Use pandas.concat instead.\n",
      "  propagation_rates=propagation_rates.append({'susceptible':SIR[0],\n",
      "C:\\Users\\athar\\AppData\\Local\\Temp\\ipykernel_8884\\3919566462.py:14: FutureWarning: The frame.append method is deprecated and will be removed from pandas in a future version. Use pandas.concat instead.\n",
      "  propagation_rates=propagation_rates.append({'susceptible':SIR[0],\n",
      "C:\\Users\\athar\\AppData\\Local\\Temp\\ipykernel_8884\\3919566462.py:14: FutureWarning: The frame.append method is deprecated and will be removed from pandas in a future version. Use pandas.concat instead.\n",
      "  propagation_rates=propagation_rates.append({'susceptible':SIR[0],\n",
      "C:\\Users\\athar\\AppData\\Local\\Temp\\ipykernel_8884\\3919566462.py:14: FutureWarning: The frame.append method is deprecated and will be removed from pandas in a future version. Use pandas.concat instead.\n",
      "  propagation_rates=propagation_rates.append({'susceptible':SIR[0],\n",
      "C:\\Users\\athar\\AppData\\Local\\Temp\\ipykernel_8884\\3919566462.py:14: FutureWarning: The frame.append method is deprecated and will be removed from pandas in a future version. Use pandas.concat instead.\n",
      "  propagation_rates=propagation_rates.append({'susceptible':SIR[0],\n",
      "C:\\Users\\athar\\AppData\\Local\\Temp\\ipykernel_8884\\3919566462.py:14: FutureWarning: The frame.append method is deprecated and will be removed from pandas in a future version. Use pandas.concat instead.\n",
      "  propagation_rates=propagation_rates.append({'susceptible':SIR[0],\n",
      "C:\\Users\\athar\\AppData\\Local\\Temp\\ipykernel_8884\\3919566462.py:14: FutureWarning: The frame.append method is deprecated and will be removed from pandas in a future version. Use pandas.concat instead.\n",
      "  propagation_rates=propagation_rates.append({'susceptible':SIR[0],\n",
      "C:\\Users\\athar\\AppData\\Local\\Temp\\ipykernel_8884\\3919566462.py:14: FutureWarning: The frame.append method is deprecated and will be removed from pandas in a future version. Use pandas.concat instead.\n",
      "  propagation_rates=propagation_rates.append({'susceptible':SIR[0],\n",
      "C:\\Users\\athar\\AppData\\Local\\Temp\\ipykernel_8884\\3919566462.py:14: FutureWarning: The frame.append method is deprecated and will be removed from pandas in a future version. Use pandas.concat instead.\n",
      "  propagation_rates=propagation_rates.append({'susceptible':SIR[0],\n",
      "C:\\Users\\athar\\AppData\\Local\\Temp\\ipykernel_8884\\3919566462.py:14: FutureWarning: The frame.append method is deprecated and will be removed from pandas in a future version. Use pandas.concat instead.\n",
      "  propagation_rates=propagation_rates.append({'susceptible':SIR[0],\n",
      "C:\\Users\\athar\\AppData\\Local\\Temp\\ipykernel_8884\\3919566462.py:14: FutureWarning: The frame.append method is deprecated and will be removed from pandas in a future version. Use pandas.concat instead.\n",
      "  propagation_rates=propagation_rates.append({'susceptible':SIR[0],\n",
      "C:\\Users\\athar\\AppData\\Local\\Temp\\ipykernel_8884\\3919566462.py:14: FutureWarning: The frame.append method is deprecated and will be removed from pandas in a future version. Use pandas.concat instead.\n",
      "  propagation_rates=propagation_rates.append({'susceptible':SIR[0],\n",
      "C:\\Users\\athar\\AppData\\Local\\Temp\\ipykernel_8884\\3919566462.py:14: FutureWarning: The frame.append method is deprecated and will be removed from pandas in a future version. Use pandas.concat instead.\n",
      "  propagation_rates=propagation_rates.append({'susceptible':SIR[0],\n",
      "C:\\Users\\athar\\AppData\\Local\\Temp\\ipykernel_8884\\3919566462.py:14: FutureWarning: The frame.append method is deprecated and will be removed from pandas in a future version. Use pandas.concat instead.\n",
      "  propagation_rates=propagation_rates.append({'susceptible':SIR[0],\n",
      "C:\\Users\\athar\\AppData\\Local\\Temp\\ipykernel_8884\\3919566462.py:14: FutureWarning: The frame.append method is deprecated and will be removed from pandas in a future version. Use pandas.concat instead.\n",
      "  propagation_rates=propagation_rates.append({'susceptible':SIR[0],\n",
      "C:\\Users\\athar\\AppData\\Local\\Temp\\ipykernel_8884\\3919566462.py:14: FutureWarning: The frame.append method is deprecated and will be removed from pandas in a future version. Use pandas.concat instead.\n",
      "  propagation_rates=propagation_rates.append({'susceptible':SIR[0],\n",
      "C:\\Users\\athar\\AppData\\Local\\Temp\\ipykernel_8884\\3919566462.py:14: FutureWarning: The frame.append method is deprecated and will be removed from pandas in a future version. Use pandas.concat instead.\n",
      "  propagation_rates=propagation_rates.append({'susceptible':SIR[0],\n",
      "C:\\Users\\athar\\AppData\\Local\\Temp\\ipykernel_8884\\3919566462.py:14: FutureWarning: The frame.append method is deprecated and will be removed from pandas in a future version. Use pandas.concat instead.\n",
      "  propagation_rates=propagation_rates.append({'susceptible':SIR[0],\n",
      "C:\\Users\\athar\\AppData\\Local\\Temp\\ipykernel_8884\\3919566462.py:14: FutureWarning: The frame.append method is deprecated and will be removed from pandas in a future version. Use pandas.concat instead.\n",
      "  propagation_rates=propagation_rates.append({'susceptible':SIR[0],\n"
     ]
    },
    {
     "name": "stderr",
     "output_type": "stream",
     "text": [
      "C:\\Users\\athar\\AppData\\Local\\Temp\\ipykernel_8884\\3919566462.py:14: FutureWarning: The frame.append method is deprecated and will be removed from pandas in a future version. Use pandas.concat instead.\n",
      "  propagation_rates=propagation_rates.append({'susceptible':SIR[0],\n",
      "C:\\Users\\athar\\AppData\\Local\\Temp\\ipykernel_8884\\3919566462.py:14: FutureWarning: The frame.append method is deprecated and will be removed from pandas in a future version. Use pandas.concat instead.\n",
      "  propagation_rates=propagation_rates.append({'susceptible':SIR[0],\n",
      "C:\\Users\\athar\\AppData\\Local\\Temp\\ipykernel_8884\\3919566462.py:14: FutureWarning: The frame.append method is deprecated and will be removed from pandas in a future version. Use pandas.concat instead.\n",
      "  propagation_rates=propagation_rates.append({'susceptible':SIR[0],\n",
      "C:\\Users\\athar\\AppData\\Local\\Temp\\ipykernel_8884\\3919566462.py:14: FutureWarning: The frame.append method is deprecated and will be removed from pandas in a future version. Use pandas.concat instead.\n",
      "  propagation_rates=propagation_rates.append({'susceptible':SIR[0],\n",
      "C:\\Users\\athar\\AppData\\Local\\Temp\\ipykernel_8884\\3919566462.py:14: FutureWarning: The frame.append method is deprecated and will be removed from pandas in a future version. Use pandas.concat instead.\n",
      "  propagation_rates=propagation_rates.append({'susceptible':SIR[0],\n",
      "C:\\Users\\athar\\AppData\\Local\\Temp\\ipykernel_8884\\3919566462.py:14: FutureWarning: The frame.append method is deprecated and will be removed from pandas in a future version. Use pandas.concat instead.\n",
      "  propagation_rates=propagation_rates.append({'susceptible':SIR[0],\n",
      "C:\\Users\\athar\\AppData\\Local\\Temp\\ipykernel_8884\\3919566462.py:14: FutureWarning: The frame.append method is deprecated and will be removed from pandas in a future version. Use pandas.concat instead.\n",
      "  propagation_rates=propagation_rates.append({'susceptible':SIR[0],\n",
      "C:\\Users\\athar\\AppData\\Local\\Temp\\ipykernel_8884\\3919566462.py:14: FutureWarning: The frame.append method is deprecated and will be removed from pandas in a future version. Use pandas.concat instead.\n",
      "  propagation_rates=propagation_rates.append({'susceptible':SIR[0],\n",
      "C:\\Users\\athar\\AppData\\Local\\Temp\\ipykernel_8884\\3919566462.py:14: FutureWarning: The frame.append method is deprecated and will be removed from pandas in a future version. Use pandas.concat instead.\n",
      "  propagation_rates=propagation_rates.append({'susceptible':SIR[0],\n",
      "C:\\Users\\athar\\AppData\\Local\\Temp\\ipykernel_8884\\3919566462.py:14: FutureWarning: The frame.append method is deprecated and will be removed from pandas in a future version. Use pandas.concat instead.\n",
      "  propagation_rates=propagation_rates.append({'susceptible':SIR[0],\n",
      "C:\\Users\\athar\\AppData\\Local\\Temp\\ipykernel_8884\\3919566462.py:14: FutureWarning: The frame.append method is deprecated and will be removed from pandas in a future version. Use pandas.concat instead.\n",
      "  propagation_rates=propagation_rates.append({'susceptible':SIR[0],\n",
      "C:\\Users\\athar\\AppData\\Local\\Temp\\ipykernel_8884\\3919566462.py:14: FutureWarning: The frame.append method is deprecated and will be removed from pandas in a future version. Use pandas.concat instead.\n",
      "  propagation_rates=propagation_rates.append({'susceptible':SIR[0],\n",
      "C:\\Users\\athar\\AppData\\Local\\Temp\\ipykernel_8884\\3919566462.py:14: FutureWarning: The frame.append method is deprecated and will be removed from pandas in a future version. Use pandas.concat instead.\n",
      "  propagation_rates=propagation_rates.append({'susceptible':SIR[0],\n",
      "C:\\Users\\athar\\AppData\\Local\\Temp\\ipykernel_8884\\3919566462.py:14: FutureWarning: The frame.append method is deprecated and will be removed from pandas in a future version. Use pandas.concat instead.\n",
      "  propagation_rates=propagation_rates.append({'susceptible':SIR[0],\n",
      "C:\\Users\\athar\\AppData\\Local\\Temp\\ipykernel_8884\\3919566462.py:14: FutureWarning: The frame.append method is deprecated and will be removed from pandas in a future version. Use pandas.concat instead.\n",
      "  propagation_rates=propagation_rates.append({'susceptible':SIR[0],\n",
      "C:\\Users\\athar\\AppData\\Local\\Temp\\ipykernel_8884\\3919566462.py:14: FutureWarning: The frame.append method is deprecated and will be removed from pandas in a future version. Use pandas.concat instead.\n",
      "  propagation_rates=propagation_rates.append({'susceptible':SIR[0],\n",
      "C:\\Users\\athar\\AppData\\Local\\Temp\\ipykernel_8884\\3919566462.py:14: FutureWarning: The frame.append method is deprecated and will be removed from pandas in a future version. Use pandas.concat instead.\n",
      "  propagation_rates=propagation_rates.append({'susceptible':SIR[0],\n",
      "C:\\Users\\athar\\AppData\\Local\\Temp\\ipykernel_8884\\3919566462.py:14: FutureWarning: The frame.append method is deprecated and will be removed from pandas in a future version. Use pandas.concat instead.\n",
      "  propagation_rates=propagation_rates.append({'susceptible':SIR[0],\n",
      "C:\\Users\\athar\\AppData\\Local\\Temp\\ipykernel_8884\\3919566462.py:14: FutureWarning: The frame.append method is deprecated and will be removed from pandas in a future version. Use pandas.concat instead.\n",
      "  propagation_rates=propagation_rates.append({'susceptible':SIR[0],\n",
      "C:\\Users\\athar\\AppData\\Local\\Temp\\ipykernel_8884\\3919566462.py:14: FutureWarning: The frame.append method is deprecated and will be removed from pandas in a future version. Use pandas.concat instead.\n",
      "  propagation_rates=propagation_rates.append({'susceptible':SIR[0],\n",
      "C:\\Users\\athar\\AppData\\Local\\Temp\\ipykernel_8884\\3919566462.py:14: FutureWarning: The frame.append method is deprecated and will be removed from pandas in a future version. Use pandas.concat instead.\n",
      "  propagation_rates=propagation_rates.append({'susceptible':SIR[0],\n",
      "C:\\Users\\athar\\AppData\\Local\\Temp\\ipykernel_8884\\3919566462.py:14: FutureWarning: The frame.append method is deprecated and will be removed from pandas in a future version. Use pandas.concat instead.\n",
      "  propagation_rates=propagation_rates.append({'susceptible':SIR[0],\n",
      "C:\\Users\\athar\\AppData\\Local\\Temp\\ipykernel_8884\\3919566462.py:14: FutureWarning: The frame.append method is deprecated and will be removed from pandas in a future version. Use pandas.concat instead.\n",
      "  propagation_rates=propagation_rates.append({'susceptible':SIR[0],\n",
      "C:\\Users\\athar\\AppData\\Local\\Temp\\ipykernel_8884\\3919566462.py:14: FutureWarning: The frame.append method is deprecated and will be removed from pandas in a future version. Use pandas.concat instead.\n",
      "  propagation_rates=propagation_rates.append({'susceptible':SIR[0],\n",
      "C:\\Users\\athar\\AppData\\Local\\Temp\\ipykernel_8884\\3919566462.py:14: FutureWarning: The frame.append method is deprecated and will be removed from pandas in a future version. Use pandas.concat instead.\n",
      "  propagation_rates=propagation_rates.append({'susceptible':SIR[0],\n",
      "C:\\Users\\athar\\AppData\\Local\\Temp\\ipykernel_8884\\3919566462.py:14: FutureWarning: The frame.append method is deprecated and will be removed from pandas in a future version. Use pandas.concat instead.\n",
      "  propagation_rates=propagation_rates.append({'susceptible':SIR[0],\n"
     ]
    }
   ],
   "source": [
    "\n",
    "SIR=np.array([S0,I0,R0])\n",
    "propagation_rates=pd.DataFrame(columns={'susceptible':S0,\n",
    "                                        'infected':I0,\n",
    "                                        'recoverd':R0})\n",
    "\n",
    "\n",
    "\n",
    "for each_t in np.arange(100):\n",
    "   \n",
    "    new_delta_vec=SIR_model(SIR,beta,gamma)\n",
    "   \n",
    "    SIR=SIR+new_delta_vec\n",
    "    \n",
    "    propagation_rates=propagation_rates.append({'susceptible':SIR[0],\n",
    "                                                'infected':SIR[1],\n",
    "                                                'recovered':SIR[2]}, ignore_index=True)\n"
   ]
  },
  {
   "cell_type": "code",
   "execution_count": 6,
   "metadata": {},
   "outputs": [
    {
     "data": {
      "image/png": "[encoded data removed]",
      "text/plain": [
       "<Figure size 1152x648 with 1 Axes>"
      ]
     },
     "metadata": {},
     "output_type": "display_data"
    }
   ],
   "source": [
    "fig, ax1 = plt.subplots(1, 1)\n",
    "\n",
    "ax1.plot(propagation_rates.index,propagation_rates.infected,label='infected',color='k')\n",
    "ax1.plot(propagation_rates.index,propagation_rates.recovered,label='recovered')\n",
    "ax1.plot(propagation_rates.index,propagation_rates.susceptible,label='susceptible')\n",
    "\n",
    "#ax1.set_ylim(10, 1000000)\n",
    "ax1.set_yscale('linear')\n",
    "ax1.set_title('Scenario SIR simulations  (demonstration purposes only)',size=16)\n",
    "ax1.set_xlabel('time in days',size=16)\n",
    "ax1.legend(loc='best',\n",
    "           prop={'size': 16});"
   ]
  },
  {
   "cell_type": "markdown",
   "metadata": {},
   "source": [
    "# Fitting the parameters to SIR model"
   ]
  },
  {
   "cell_type": "code",
   "execution_count": 7,
   "metadata": {},
   "outputs": [],
   "source": [
    "# Import libraries and make the data\n",
    "\n",
    "from scipy import optimize\n",
    "from scipy import integrate\n",
    "ydata = np.array(df_analyse.Germany[41:])\n",
    "t=np.arange(len(ydata))"
   ]
  },
  {
   "cell_type": "code",
   "execution_count": null,
   "metadata": {},
   "outputs": [],
   "source": []
  },
  {
   "cell_type": "code",
   "execution_count": 8,
   "metadata": {},
   "outputs": [
    {
     "data": {
      "text/plain": [
       "0.4"
      ]
     },
     "execution_count": 8,
     "metadata": {},
     "output_type": "execute_result"
    }
   ],
   "source": [
    "# Initialization of variables\n",
    "I0=ydata[0]\n",
    "S0=N0-I0\n",
    "R0=0\n",
    "beta"
   ]
  },
  {
   "cell_type": "code",
   "execution_count": 9,
   "metadata": {},
   "outputs": [],
   "source": [
    "def SIR_model_t(SIR, t, beta, gamma):\n",
    "\n",
    "    S,I,R=SIR\n",
    "    dS_dt=-beta*S*I/N0          #S*I is the \n",
    "    dI_dt=beta*S*I/N0-gamma*I\n",
    "    dR_dt=gamma*I\n",
    "\n",
    "    return dS_dt,dI_dt,dR_dt"
   ]
  },
  {
   "cell_type": "code",
   "execution_count": 10,
   "metadata": {},
   "outputs": [],
   "source": [
    "\n",
    "def fit_odeint(x, beta, gamma):\n",
    "    '''\n",
    "    helper function for the integration\n",
    "    '''\n",
    "    return integrate.odeint(SIR_model_t, (S0, I0, R0), t, args=(beta, gamma))[:,1] # we only would like to get dI"
   ]
  },
  {
   "cell_type": "code",
   "execution_count": 11,
   "metadata": {},
   "outputs": [
    {
     "data": {
      "text/plain": [
       "(871,)"
      ]
     },
     "execution_count": 11,
     "metadata": {},
     "output_type": "execute_result"
    }
   ],
   "source": [
    "popt=[0.4,0.1]\n",
    "output = fit_odeint(t, *popt)\n",
    "\n",
    "output.shape"
   ]
  },
  {
   "cell_type": "code",
   "execution_count": 12,
   "metadata": {},
   "outputs": [
    {
     "name": "stderr",
     "output_type": "stream",
     "text": [
      "C:\\Users\\athar\\anaconda3\\lib\\site-packages\\scipy\\integrate\\odepack.py:247: ODEintWarning: Excess work done on this call (perhaps wrong Dfun type). Run with full_output = 1 to get quantitative information.\n",
      "  warnings.warn(warning_msg, ODEintWarning)\n",
      "C:\\Users\\athar\\AppData\\Local\\Temp\\ipykernel_8884\\1441079277.py:4: RuntimeWarning: overflow encountered in double_scalars\n",
      "  dS_dt=-beta*S*I/N0          #S*I is the\n",
      "C:\\Users\\athar\\AppData\\Local\\Temp\\ipykernel_8884\\1441079277.py:5: RuntimeWarning: overflow encountered in double_scalars\n",
      "  dI_dt=beta*S*I/N0-gamma*I\n",
      "C:\\Users\\athar\\anaconda3\\lib\\site-packages\\scipy\\integrate\\odepack.py:247: ODEintWarning: Illegal input detected (internal error). Run with full_output = 1 to get quantitative information.\n",
      "  warnings.warn(warning_msg, ODEintWarning)\n"
     ]
    },
    {
     "name": "stdout",
     "output_type": "stream",
     "text": [
      "standard deviation errors :  [5.66275968e-04 6.02489081e-05]  start infect: 188\n",
      "Optimal parameters: beta = 0.022650526966828895  and gamma =  -0.006102993612671659\n"
     ]
    }
   ],
   "source": [
    "popt, pcov = optimize.curve_fit(fit_odeint, t, ydata) # pcov returns covariance matrix (2D array) of the parameters with diagonale of the matrix as a variance values of the parameters\n",
    "perr = np.sqrt(np.diag(pcov)) # Square root of the variance is the standard deviation of the parameter values. \n",
    "    \n",
    "print('standard deviation errors : ',str(perr), ' start infect:',ydata[0])\n",
    "print(\"Optimal parameters: beta =\", popt[0], \" and gamma = \", popt[1])\n"
   ]
  },
  {
   "cell_type": "code",
   "execution_count": 13,
   "metadata": {},
   "outputs": [
    {
     "name": "stdout",
     "output_type": "stream",
     "text": [
      "(871,)\n"
     ]
    }
   ],
   "source": [
    "fitted=fit_odeint(t, *popt)\n",
    "#fitted=fit_odeint(t, 0.082, -0.0000015)\n",
    "\n",
    "\n",
    "print(fitted.shape)"
   ]
  },
  {
   "cell_type": "code",
   "execution_count": 14,
   "metadata": {},
   "outputs": [
    {
     "data": {
      "image/png": "[encoded data removed]",
      "text/plain": [
       "<Figure size 1152x648 with 1 Axes>"
      ]
     },
     "metadata": {},
     "output_type": "display_data"
    },
    {
     "name": "stdout",
     "output_type": "stream",
     "text": [
      "Optimal parameters: beta = 0.022650526966828895  and gamma =  -0.006102993612671659\n",
      "Basic Reproduction Number R0  -3.7113797595657902\n",
      "This ratio is derived as the expected number of new infections (these new infections are sometimes called secondary infections from a single infection in a population where all subjects are susceptible. @wiki\n"
     ]
    }
   ],
   "source": [
    "plt.semilogy(t, ydata, 'o')\n",
    "plt.semilogy(t, fitted)\n",
    "plt.title(\"Fit of SIR model for Germany cases\")\n",
    "plt.ylabel(\"Population infected\")\n",
    "plt.xlabel(\"Days\")\n",
    "plt.show()\n",
    "print(\"Optimal parameters: beta =\", popt[0], \" and gamma = \", popt[1])\n",
    "print(\"Basic Reproduction Number R0 \" , popt[0]/ popt[1])\n",
    "print(\"This ratio is derived as the expected number of new infections (these new infections are sometimes called secondary infections from a single infection in a population where all subjects are susceptible. @wiki\")"
   ]
  },
  {
   "cell_type": "markdown",
   "metadata": {},
   "source": [
    "# Dynamic beta in simulation"
   ]
  },
  {
   "cell_type": "code",
   "execution_count": 15,
   "metadata": {},
   "outputs": [],
   "source": [
    "t_initial = 28\n",
    "t_intro_measures = 14\n",
    "t_hold = 21\n",
    "t_relax = 15\n",
    "\n",
    "beta_max = 0.3\n",
    "beta_min = 0.2\n",
    "gamma = 0.1\n",
    "\n",
    "pd_beta=np.concatenate((np.array(t_initial*[beta_max]),\n",
    "                       np.linspace(beta_max,beta_min,t_intro_measures),\n",
    "                       np.array(t_hold*[beta_min]),\n",
    "                       np.linspace(beta_min,beta_max,t_relax),\n",
    "                       ))\n",
    "\n"
   ]
  },
  {
   "cell_type": "code",
   "execution_count": 16,
   "metadata": {},
   "outputs": [
    {
     "data": {
      "text/plain": [
       "array([0.3       , 0.3       , 0.3       , 0.3       , 0.3       ,\n",
       "       0.3       , 0.3       , 0.3       , 0.3       , 0.3       ,\n",
       "       0.3       , 0.3       , 0.3       , 0.3       , 0.3       ,\n",
       "       0.3       , 0.3       , 0.3       , 0.3       , 0.3       ,\n",
       "       0.3       , 0.3       , 0.3       , 0.3       , 0.3       ,\n",
       "       0.3       , 0.3       , 0.3       , 0.3       , 0.29230769,\n",
       "       0.28461538, 0.27692308, 0.26923077, 0.26153846, 0.25384615,\n",
       "       0.24615385, 0.23846154, 0.23076923, 0.22307692, 0.21538462,\n",
       "       0.20769231, 0.2       , 0.2       , 0.2       , 0.2       ,\n",
       "       0.2       , 0.2       , 0.2       , 0.2       , 0.2       ,\n",
       "       0.2       , 0.2       , 0.2       , 0.2       , 0.2       ,\n",
       "       0.2       , 0.2       , 0.2       , 0.2       , 0.2       ,\n",
       "       0.2       , 0.2       , 0.2       , 0.2       , 0.20714286,\n",
       "       0.21428571, 0.22142857, 0.22857143, 0.23571429, 0.24285714,\n",
       "       0.25      , 0.25714286, 0.26428571, 0.27142857, 0.27857143,\n",
       "       0.28571429, 0.29285714, 0.3       ])"
      ]
     },
     "execution_count": 16,
     "metadata": {},
     "output_type": "execute_result"
    }
   ],
   "source": [
    "pd_beta"
   ]
  },
  {
   "cell_type": "code",
   "execution_count": 17,
   "metadata": {},
   "outputs": [
    {
     "name": "stderr",
     "output_type": "stream",
     "text": [
      "C:\\Users\\athar\\AppData\\Local\\Temp\\ipykernel_8884\\2703309191.py:14: FutureWarning: The frame.append method is deprecated and will be removed from pandas in a future version. Use pandas.concat instead.\n",
      "  propagation_rates=propagation_rates.append({'susceptible':SIR[0],\n",
      "C:\\Users\\athar\\AppData\\Local\\Temp\\ipykernel_8884\\2703309191.py:14: FutureWarning: The frame.append method is deprecated and will be removed from pandas in a future version. Use pandas.concat instead.\n",
      "  propagation_rates=propagation_rates.append({'susceptible':SIR[0],\n",
      "C:\\Users\\athar\\AppData\\Local\\Temp\\ipykernel_8884\\2703309191.py:14: FutureWarning: The frame.append method is deprecated and will be removed from pandas in a future version. Use pandas.concat instead.\n",
      "  propagation_rates=propagation_rates.append({'susceptible':SIR[0],\n",
      "C:\\Users\\athar\\AppData\\Local\\Temp\\ipykernel_8884\\2703309191.py:14: FutureWarning: The frame.append method is deprecated and will be removed from pandas in a future version. Use pandas.concat instead.\n",
      "  propagation_rates=propagation_rates.append({'susceptible':SIR[0],\n",
      "C:\\Users\\athar\\AppData\\Local\\Temp\\ipykernel_8884\\2703309191.py:14: FutureWarning: The frame.append method is deprecated and will be removed from pandas in a future version. Use pandas.concat instead.\n",
      "  propagation_rates=propagation_rates.append({'susceptible':SIR[0],\n",
      "C:\\Users\\athar\\AppData\\Local\\Temp\\ipykernel_8884\\2703309191.py:14: FutureWarning: The frame.append method is deprecated and will be removed from pandas in a future version. Use pandas.concat instead.\n",
      "  propagation_rates=propagation_rates.append({'susceptible':SIR[0],\n",
      "C:\\Users\\athar\\AppData\\Local\\Temp\\ipykernel_8884\\2703309191.py:14: FutureWarning: The frame.append method is deprecated and will be removed from pandas in a future version. Use pandas.concat instead.\n",
      "  propagation_rates=propagation_rates.append({'susceptible':SIR[0],\n",
      "C:\\Users\\athar\\AppData\\Local\\Temp\\ipykernel_8884\\2703309191.py:14: FutureWarning: The frame.append method is deprecated and will be removed from pandas in a future version. Use pandas.concat instead.\n",
      "  propagation_rates=propagation_rates.append({'susceptible':SIR[0],\n",
      "C:\\Users\\athar\\AppData\\Local\\Temp\\ipykernel_8884\\2703309191.py:14: FutureWarning: The frame.append method is deprecated and will be removed from pandas in a future version. Use pandas.concat instead.\n",
      "  propagation_rates=propagation_rates.append({'susceptible':SIR[0],\n",
      "C:\\Users\\athar\\AppData\\Local\\Temp\\ipykernel_8884\\2703309191.py:14: FutureWarning: The frame.append method is deprecated and will be removed from pandas in a future version. Use pandas.concat instead.\n",
      "  propagation_rates=propagation_rates.append({'susceptible':SIR[0],\n",
      "C:\\Users\\athar\\AppData\\Local\\Temp\\ipykernel_8884\\2703309191.py:14: FutureWarning: The frame.append method is deprecated and will be removed from pandas in a future version. Use pandas.concat instead.\n",
      "  propagation_rates=propagation_rates.append({'susceptible':SIR[0],\n",
      "C:\\Users\\athar\\AppData\\Local\\Temp\\ipykernel_8884\\2703309191.py:14: FutureWarning: The frame.append method is deprecated and will be removed from pandas in a future version. Use pandas.concat instead.\n",
      "  propagation_rates=propagation_rates.append({'susceptible':SIR[0],\n",
      "C:\\Users\\athar\\AppData\\Local\\Temp\\ipykernel_8884\\2703309191.py:14: FutureWarning: The frame.append method is deprecated and will be removed from pandas in a future version. Use pandas.concat instead.\n",
      "  propagation_rates=propagation_rates.append({'susceptible':SIR[0],\n",
      "C:\\Users\\athar\\AppData\\Local\\Temp\\ipykernel_8884\\2703309191.py:14: FutureWarning: The frame.append method is deprecated and will be removed from pandas in a future version. Use pandas.concat instead.\n",
      "  propagation_rates=propagation_rates.append({'susceptible':SIR[0],\n",
      "C:\\Users\\athar\\AppData\\Local\\Temp\\ipykernel_8884\\2703309191.py:14: FutureWarning: The frame.append method is deprecated and will be removed from pandas in a future version. Use pandas.concat instead.\n",
      "  propagation_rates=propagation_rates.append({'susceptible':SIR[0],\n",
      "C:\\Users\\athar\\AppData\\Local\\Temp\\ipykernel_8884\\2703309191.py:14: FutureWarning: The frame.append method is deprecated and will be removed from pandas in a future version. Use pandas.concat instead.\n",
      "  propagation_rates=propagation_rates.append({'susceptible':SIR[0],\n",
      "C:\\Users\\athar\\AppData\\Local\\Temp\\ipykernel_8884\\2703309191.py:14: FutureWarning: The frame.append method is deprecated and will be removed from pandas in a future version. Use pandas.concat instead.\n",
      "  propagation_rates=propagation_rates.append({'susceptible':SIR[0],\n",
      "C:\\Users\\athar\\AppData\\Local\\Temp\\ipykernel_8884\\2703309191.py:14: FutureWarning: The frame.append method is deprecated and will be removed from pandas in a future version. Use pandas.concat instead.\n",
      "  propagation_rates=propagation_rates.append({'susceptible':SIR[0],\n",
      "C:\\Users\\athar\\AppData\\Local\\Temp\\ipykernel_8884\\2703309191.py:14: FutureWarning: The frame.append method is deprecated and will be removed from pandas in a future version. Use pandas.concat instead.\n",
      "  propagation_rates=propagation_rates.append({'susceptible':SIR[0],\n",
      "C:\\Users\\athar\\AppData\\Local\\Temp\\ipykernel_8884\\2703309191.py:14: FutureWarning: The frame.append method is deprecated and will be removed from pandas in a future version. Use pandas.concat instead.\n",
      "  propagation_rates=propagation_rates.append({'susceptible':SIR[0],\n",
      "C:\\Users\\athar\\AppData\\Local\\Temp\\ipykernel_8884\\2703309191.py:14: FutureWarning: The frame.append method is deprecated and will be removed from pandas in a future version. Use pandas.concat instead.\n",
      "  propagation_rates=propagation_rates.append({'susceptible':SIR[0],\n",
      "C:\\Users\\athar\\AppData\\Local\\Temp\\ipykernel_8884\\2703309191.py:14: FutureWarning: The frame.append method is deprecated and will be removed from pandas in a future version. Use pandas.concat instead.\n",
      "  propagation_rates=propagation_rates.append({'susceptible':SIR[0],\n",
      "C:\\Users\\athar\\AppData\\Local\\Temp\\ipykernel_8884\\2703309191.py:14: FutureWarning: The frame.append method is deprecated and will be removed from pandas in a future version. Use pandas.concat instead.\n",
      "  propagation_rates=propagation_rates.append({'susceptible':SIR[0],\n",
      "C:\\Users\\athar\\AppData\\Local\\Temp\\ipykernel_8884\\2703309191.py:14: FutureWarning: The frame.append method is deprecated and will be removed from pandas in a future version. Use pandas.concat instead.\n",
      "  propagation_rates=propagation_rates.append({'susceptible':SIR[0],\n",
      "C:\\Users\\athar\\AppData\\Local\\Temp\\ipykernel_8884\\2703309191.py:14: FutureWarning: The frame.append method is deprecated and will be removed from pandas in a future version. Use pandas.concat instead.\n",
      "  propagation_rates=propagation_rates.append({'susceptible':SIR[0],\n",
      "C:\\Users\\athar\\AppData\\Local\\Temp\\ipykernel_8884\\2703309191.py:14: FutureWarning: The frame.append method is deprecated and will be removed from pandas in a future version. Use pandas.concat instead.\n",
      "  propagation_rates=propagation_rates.append({'susceptible':SIR[0],\n",
      "C:\\Users\\athar\\AppData\\Local\\Temp\\ipykernel_8884\\2703309191.py:14: FutureWarning: The frame.append method is deprecated and will be removed from pandas in a future version. Use pandas.concat instead.\n",
      "  propagation_rates=propagation_rates.append({'susceptible':SIR[0],\n",
      "C:\\Users\\athar\\AppData\\Local\\Temp\\ipykernel_8884\\2703309191.py:14: FutureWarning: The frame.append method is deprecated and will be removed from pandas in a future version. Use pandas.concat instead.\n",
      "  propagation_rates=propagation_rates.append({'susceptible':SIR[0],\n",
      "C:\\Users\\athar\\AppData\\Local\\Temp\\ipykernel_8884\\2703309191.py:14: FutureWarning: The frame.append method is deprecated and will be removed from pandas in a future version. Use pandas.concat instead.\n",
      "  propagation_rates=propagation_rates.append({'susceptible':SIR[0],\n",
      "C:\\Users\\athar\\AppData\\Local\\Temp\\ipykernel_8884\\2703309191.py:14: FutureWarning: The frame.append method is deprecated and will be removed from pandas in a future version. Use pandas.concat instead.\n",
      "  propagation_rates=propagation_rates.append({'susceptible':SIR[0],\n",
      "C:\\Users\\athar\\AppData\\Local\\Temp\\ipykernel_8884\\2703309191.py:14: FutureWarning: The frame.append method is deprecated and will be removed from pandas in a future version. Use pandas.concat instead.\n",
      "  propagation_rates=propagation_rates.append({'susceptible':SIR[0],\n",
      "C:\\Users\\athar\\AppData\\Local\\Temp\\ipykernel_8884\\2703309191.py:14: FutureWarning: The frame.append method is deprecated and will be removed from pandas in a future version. Use pandas.concat instead.\n",
      "  propagation_rates=propagation_rates.append({'susceptible':SIR[0],\n"
     ]
    },
    {
     "name": "stderr",
     "output_type": "stream",
     "text": [
      "C:\\Users\\athar\\AppData\\Local\\Temp\\ipykernel_8884\\2703309191.py:14: FutureWarning: The frame.append method is deprecated and will be removed from pandas in a future version. Use pandas.concat instead.\n",
      "  propagation_rates=propagation_rates.append({'susceptible':SIR[0],\n",
      "C:\\Users\\athar\\AppData\\Local\\Temp\\ipykernel_8884\\2703309191.py:14: FutureWarning: The frame.append method is deprecated and will be removed from pandas in a future version. Use pandas.concat instead.\n",
      "  propagation_rates=propagation_rates.append({'susceptible':SIR[0],\n",
      "C:\\Users\\athar\\AppData\\Local\\Temp\\ipykernel_8884\\2703309191.py:14: FutureWarning: The frame.append method is deprecated and will be removed from pandas in a future version. Use pandas.concat instead.\n",
      "  propagation_rates=propagation_rates.append({'susceptible':SIR[0],\n",
      "C:\\Users\\athar\\AppData\\Local\\Temp\\ipykernel_8884\\2703309191.py:14: FutureWarning: The frame.append method is deprecated and will be removed from pandas in a future version. Use pandas.concat instead.\n",
      "  propagation_rates=propagation_rates.append({'susceptible':SIR[0],\n",
      "C:\\Users\\athar\\AppData\\Local\\Temp\\ipykernel_8884\\2703309191.py:14: FutureWarning: The frame.append method is deprecated and will be removed from pandas in a future version. Use pandas.concat instead.\n",
      "  propagation_rates=propagation_rates.append({'susceptible':SIR[0],\n",
      "C:\\Users\\athar\\AppData\\Local\\Temp\\ipykernel_8884\\2703309191.py:14: FutureWarning: The frame.append method is deprecated and will be removed from pandas in a future version. Use pandas.concat instead.\n",
      "  propagation_rates=propagation_rates.append({'susceptible':SIR[0],\n",
      "C:\\Users\\athar\\AppData\\Local\\Temp\\ipykernel_8884\\2703309191.py:14: FutureWarning: The frame.append method is deprecated and will be removed from pandas in a future version. Use pandas.concat instead.\n",
      "  propagation_rates=propagation_rates.append({'susceptible':SIR[0],\n",
      "C:\\Users\\athar\\AppData\\Local\\Temp\\ipykernel_8884\\2703309191.py:14: FutureWarning: The frame.append method is deprecated and will be removed from pandas in a future version. Use pandas.concat instead.\n",
      "  propagation_rates=propagation_rates.append({'susceptible':SIR[0],\n",
      "C:\\Users\\athar\\AppData\\Local\\Temp\\ipykernel_8884\\2703309191.py:14: FutureWarning: The frame.append method is deprecated and will be removed from pandas in a future version. Use pandas.concat instead.\n",
      "  propagation_rates=propagation_rates.append({'susceptible':SIR[0],\n",
      "C:\\Users\\athar\\AppData\\Local\\Temp\\ipykernel_8884\\2703309191.py:14: FutureWarning: The frame.append method is deprecated and will be removed from pandas in a future version. Use pandas.concat instead.\n",
      "  propagation_rates=propagation_rates.append({'susceptible':SIR[0],\n",
      "C:\\Users\\athar\\AppData\\Local\\Temp\\ipykernel_8884\\2703309191.py:14: FutureWarning: The frame.append method is deprecated and will be removed from pandas in a future version. Use pandas.concat instead.\n",
      "  propagation_rates=propagation_rates.append({'susceptible':SIR[0],\n",
      "C:\\Users\\athar\\AppData\\Local\\Temp\\ipykernel_8884\\2703309191.py:14: FutureWarning: The frame.append method is deprecated and will be removed from pandas in a future version. Use pandas.concat instead.\n",
      "  propagation_rates=propagation_rates.append({'susceptible':SIR[0],\n",
      "C:\\Users\\athar\\AppData\\Local\\Temp\\ipykernel_8884\\2703309191.py:14: FutureWarning: The frame.append method is deprecated and will be removed from pandas in a future version. Use pandas.concat instead.\n",
      "  propagation_rates=propagation_rates.append({'susceptible':SIR[0],\n",
      "C:\\Users\\athar\\AppData\\Local\\Temp\\ipykernel_8884\\2703309191.py:14: FutureWarning: The frame.append method is deprecated and will be removed from pandas in a future version. Use pandas.concat instead.\n",
      "  propagation_rates=propagation_rates.append({'susceptible':SIR[0],\n",
      "C:\\Users\\athar\\AppData\\Local\\Temp\\ipykernel_8884\\2703309191.py:14: FutureWarning: The frame.append method is deprecated and will be removed from pandas in a future version. Use pandas.concat instead.\n",
      "  propagation_rates=propagation_rates.append({'susceptible':SIR[0],\n",
      "C:\\Users\\athar\\AppData\\Local\\Temp\\ipykernel_8884\\2703309191.py:14: FutureWarning: The frame.append method is deprecated and will be removed from pandas in a future version. Use pandas.concat instead.\n",
      "  propagation_rates=propagation_rates.append({'susceptible':SIR[0],\n",
      "C:\\Users\\athar\\AppData\\Local\\Temp\\ipykernel_8884\\2703309191.py:14: FutureWarning: The frame.append method is deprecated and will be removed from pandas in a future version. Use pandas.concat instead.\n",
      "  propagation_rates=propagation_rates.append({'susceptible':SIR[0],\n",
      "C:\\Users\\athar\\AppData\\Local\\Temp\\ipykernel_8884\\2703309191.py:14: FutureWarning: The frame.append method is deprecated and will be removed from pandas in a future version. Use pandas.concat instead.\n",
      "  propagation_rates=propagation_rates.append({'susceptible':SIR[0],\n",
      "C:\\Users\\athar\\AppData\\Local\\Temp\\ipykernel_8884\\2703309191.py:14: FutureWarning: The frame.append method is deprecated and will be removed from pandas in a future version. Use pandas.concat instead.\n",
      "  propagation_rates=propagation_rates.append({'susceptible':SIR[0],\n",
      "C:\\Users\\athar\\AppData\\Local\\Temp\\ipykernel_8884\\2703309191.py:14: FutureWarning: The frame.append method is deprecated and will be removed from pandas in a future version. Use pandas.concat instead.\n",
      "  propagation_rates=propagation_rates.append({'susceptible':SIR[0],\n",
      "C:\\Users\\athar\\AppData\\Local\\Temp\\ipykernel_8884\\2703309191.py:14: FutureWarning: The frame.append method is deprecated and will be removed from pandas in a future version. Use pandas.concat instead.\n",
      "  propagation_rates=propagation_rates.append({'susceptible':SIR[0],\n",
      "C:\\Users\\athar\\AppData\\Local\\Temp\\ipykernel_8884\\2703309191.py:14: FutureWarning: The frame.append method is deprecated and will be removed from pandas in a future version. Use pandas.concat instead.\n",
      "  propagation_rates=propagation_rates.append({'susceptible':SIR[0],\n",
      "C:\\Users\\athar\\AppData\\Local\\Temp\\ipykernel_8884\\2703309191.py:14: FutureWarning: The frame.append method is deprecated and will be removed from pandas in a future version. Use pandas.concat instead.\n",
      "  propagation_rates=propagation_rates.append({'susceptible':SIR[0],\n",
      "C:\\Users\\athar\\AppData\\Local\\Temp\\ipykernel_8884\\2703309191.py:14: FutureWarning: The frame.append method is deprecated and will be removed from pandas in a future version. Use pandas.concat instead.\n",
      "  propagation_rates=propagation_rates.append({'susceptible':SIR[0],\n",
      "C:\\Users\\athar\\AppData\\Local\\Temp\\ipykernel_8884\\2703309191.py:14: FutureWarning: The frame.append method is deprecated and will be removed from pandas in a future version. Use pandas.concat instead.\n",
      "  propagation_rates=propagation_rates.append({'susceptible':SIR[0],\n",
      "C:\\Users\\athar\\AppData\\Local\\Temp\\ipykernel_8884\\2703309191.py:14: FutureWarning: The frame.append method is deprecated and will be removed from pandas in a future version. Use pandas.concat instead.\n",
      "  propagation_rates=propagation_rates.append({'susceptible':SIR[0],\n",
      "C:\\Users\\athar\\AppData\\Local\\Temp\\ipykernel_8884\\2703309191.py:14: FutureWarning: The frame.append method is deprecated and will be removed from pandas in a future version. Use pandas.concat instead.\n",
      "  propagation_rates=propagation_rates.append({'susceptible':SIR[0],\n",
      "C:\\Users\\athar\\AppData\\Local\\Temp\\ipykernel_8884\\2703309191.py:14: FutureWarning: The frame.append method is deprecated and will be removed from pandas in a future version. Use pandas.concat instead.\n",
      "  propagation_rates=propagation_rates.append({'susceptible':SIR[0],\n",
      "C:\\Users\\athar\\AppData\\Local\\Temp\\ipykernel_8884\\2703309191.py:14: FutureWarning: The frame.append method is deprecated and will be removed from pandas in a future version. Use pandas.concat instead.\n",
      "  propagation_rates=propagation_rates.append({'susceptible':SIR[0],\n",
      "C:\\Users\\athar\\AppData\\Local\\Temp\\ipykernel_8884\\2703309191.py:14: FutureWarning: The frame.append method is deprecated and will be removed from pandas in a future version. Use pandas.concat instead.\n",
      "  propagation_rates=propagation_rates.append({'susceptible':SIR[0],\n",
      "C:\\Users\\athar\\AppData\\Local\\Temp\\ipykernel_8884\\2703309191.py:14: FutureWarning: The frame.append method is deprecated and will be removed from pandas in a future version. Use pandas.concat instead.\n",
      "  propagation_rates=propagation_rates.append({'susceptible':SIR[0],\n",
      "C:\\Users\\athar\\AppData\\Local\\Temp\\ipykernel_8884\\2703309191.py:14: FutureWarning: The frame.append method is deprecated and will be removed from pandas in a future version. Use pandas.concat instead.\n",
      "  propagation_rates=propagation_rates.append({'susceptible':SIR[0],\n",
      "C:\\Users\\athar\\AppData\\Local\\Temp\\ipykernel_8884\\2703309191.py:14: FutureWarning: The frame.append method is deprecated and will be removed from pandas in a future version. Use pandas.concat instead.\n",
      "  propagation_rates=propagation_rates.append({'susceptible':SIR[0],\n",
      "C:\\Users\\athar\\AppData\\Local\\Temp\\ipykernel_8884\\2703309191.py:14: FutureWarning: The frame.append method is deprecated and will be removed from pandas in a future version. Use pandas.concat instead.\n",
      "  propagation_rates=propagation_rates.append({'susceptible':SIR[0],\n",
      "C:\\Users\\athar\\AppData\\Local\\Temp\\ipykernel_8884\\2703309191.py:14: FutureWarning: The frame.append method is deprecated and will be removed from pandas in a future version. Use pandas.concat instead.\n",
      "  propagation_rates=propagation_rates.append({'susceptible':SIR[0],\n",
      "C:\\Users\\athar\\AppData\\Local\\Temp\\ipykernel_8884\\2703309191.py:14: FutureWarning: The frame.append method is deprecated and will be removed from pandas in a future version. Use pandas.concat instead.\n",
      "  propagation_rates=propagation_rates.append({'susceptible':SIR[0],\n",
      "C:\\Users\\athar\\AppData\\Local\\Temp\\ipykernel_8884\\2703309191.py:14: FutureWarning: The frame.append method is deprecated and will be removed from pandas in a future version. Use pandas.concat instead.\n",
      "  propagation_rates=propagation_rates.append({'susceptible':SIR[0],\n"
     ]
    },
    {
     "name": "stderr",
     "output_type": "stream",
     "text": [
      "C:\\Users\\athar\\AppData\\Local\\Temp\\ipykernel_8884\\2703309191.py:14: FutureWarning: The frame.append method is deprecated and will be removed from pandas in a future version. Use pandas.concat instead.\n",
      "  propagation_rates=propagation_rates.append({'susceptible':SIR[0],\n",
      "C:\\Users\\athar\\AppData\\Local\\Temp\\ipykernel_8884\\2703309191.py:14: FutureWarning: The frame.append method is deprecated and will be removed from pandas in a future version. Use pandas.concat instead.\n",
      "  propagation_rates=propagation_rates.append({'susceptible':SIR[0],\n",
      "C:\\Users\\athar\\AppData\\Local\\Temp\\ipykernel_8884\\2703309191.py:14: FutureWarning: The frame.append method is deprecated and will be removed from pandas in a future version. Use pandas.concat instead.\n",
      "  propagation_rates=propagation_rates.append({'susceptible':SIR[0],\n",
      "C:\\Users\\athar\\AppData\\Local\\Temp\\ipykernel_8884\\2703309191.py:14: FutureWarning: The frame.append method is deprecated and will be removed from pandas in a future version. Use pandas.concat instead.\n",
      "  propagation_rates=propagation_rates.append({'susceptible':SIR[0],\n",
      "C:\\Users\\athar\\AppData\\Local\\Temp\\ipykernel_8884\\2703309191.py:14: FutureWarning: The frame.append method is deprecated and will be removed from pandas in a future version. Use pandas.concat instead.\n",
      "  propagation_rates=propagation_rates.append({'susceptible':SIR[0],\n",
      "C:\\Users\\athar\\AppData\\Local\\Temp\\ipykernel_8884\\2703309191.py:14: FutureWarning: The frame.append method is deprecated and will be removed from pandas in a future version. Use pandas.concat instead.\n",
      "  propagation_rates=propagation_rates.append({'susceptible':SIR[0],\n",
      "C:\\Users\\athar\\AppData\\Local\\Temp\\ipykernel_8884\\2703309191.py:14: FutureWarning: The frame.append method is deprecated and will be removed from pandas in a future version. Use pandas.concat instead.\n",
      "  propagation_rates=propagation_rates.append({'susceptible':SIR[0],\n",
      "C:\\Users\\athar\\AppData\\Local\\Temp\\ipykernel_8884\\2703309191.py:14: FutureWarning: The frame.append method is deprecated and will be removed from pandas in a future version. Use pandas.concat instead.\n",
      "  propagation_rates=propagation_rates.append({'susceptible':SIR[0],\n",
      "C:\\Users\\athar\\AppData\\Local\\Temp\\ipykernel_8884\\2703309191.py:14: FutureWarning: The frame.append method is deprecated and will be removed from pandas in a future version. Use pandas.concat instead.\n",
      "  propagation_rates=propagation_rates.append({'susceptible':SIR[0],\n"
     ]
    }
   ],
   "source": [
    "\n",
    "SIR=np.array([S0,I0,R0])\n",
    "propagation_rates=pd.DataFrame(columns={'susceptible':S0,\n",
    "                                        'infected':I0,\n",
    "                                        'recoverd':R0})\n",
    "\n",
    "\n",
    "\n",
    "for each_beta in pd_beta:\n",
    "   \n",
    "    new_delta_vec=SIR_model(SIR,each_beta,gamma)\n",
    "   \n",
    "    SIR=SIR+new_delta_vec\n",
    "    \n",
    "    propagation_rates=propagation_rates.append({'susceptible':SIR[0],\n",
    "                                                'infected':SIR[1],\n",
    "                                                'recovered':SIR[2]}, ignore_index=True)\n"
   ]
  },
  {
   "cell_type": "code",
   "execution_count": 18,
   "metadata": {},
   "outputs": [
    {
     "data": {
      "text/html": [
       "<div>\n",
       "<style scoped>\n",
       "    .dataframe tbody tr th:only-of-type {\n",
       "        vertical-align: middle;\n",
       "    }\n",
       "\n",
       "    .dataframe tbody tr th {\n",
       "        vertical-align: top;\n",
       "    }\n",
       "\n",
       "    .dataframe thead th {\n",
       "        text-align: right;\n",
       "    }\n",
       "</style>\n",
       "<table border=\"1\" class=\"dataframe\">\n",
       "  <thead>\n",
       "    <tr style=\"text-align: right;\">\n",
       "      <th></th>\n",
       "      <th>susceptible</th>\n",
       "      <th>infected</th>\n",
       "      <th>recoverd</th>\n",
       "      <th>recovered</th>\n",
       "    </tr>\n",
       "  </thead>\n",
       "  <tbody>\n",
       "    <tr>\n",
       "      <th>0</th>\n",
       "      <td>999755.610603</td>\n",
       "      <td>225.589397</td>\n",
       "      <td>NaN</td>\n",
       "      <td>18.800000</td>\n",
       "    </tr>\n",
       "    <tr>\n",
       "      <th>1</th>\n",
       "      <td>999687.950324</td>\n",
       "      <td>270.690737</td>\n",
       "      <td>NaN</td>\n",
       "      <td>41.358940</td>\n",
       "    </tr>\n",
       "    <tr>\n",
       "      <th>2</th>\n",
       "      <td>999606.768443</td>\n",
       "      <td>324.803543</td>\n",
       "      <td>NaN</td>\n",
       "      <td>68.428013</td>\n",
       "    </tr>\n",
       "    <tr>\n",
       "      <th>3</th>\n",
       "      <td>999509.365697</td>\n",
       "      <td>389.725935</td>\n",
       "      <td>NaN</td>\n",
       "      <td>100.908368</td>\n",
       "    </tr>\n",
       "    <tr>\n",
       "      <th>4</th>\n",
       "      <td>999392.505281</td>\n",
       "      <td>467.613758</td>\n",
       "      <td>NaN</td>\n",
       "      <td>139.880961</td>\n",
       "    </tr>\n",
       "  </tbody>\n",
       "</table>\n",
       "</div>"
      ],
      "text/plain": [
       "     susceptible    infected recoverd   recovered\n",
       "0  999755.610603  225.589397      NaN   18.800000\n",
       "1  999687.950324  270.690737      NaN   41.358940\n",
       "2  999606.768443  324.803543      NaN   68.428013\n",
       "3  999509.365697  389.725935      NaN  100.908368\n",
       "4  999392.505281  467.613758      NaN  139.880961"
      ]
     },
     "execution_count": 18,
     "metadata": {},
     "output_type": "execute_result"
    }
   ],
   "source": [
    "propagation_rates.head()"
   ]
  },
  {
   "cell_type": "code",
   "execution_count": 19,
   "metadata": {},
   "outputs": [
    {
     "data": {
      "image/png": "[encoded data removed]",
      "text/plain": [
       "<Figure size 1152x648 with 1 Axes>"
      ]
     },
     "metadata": {},
     "output_type": "display_data"
    }
   ],
   "source": [
    "fig, ax1 = plt.subplots(1,1)\n",
    "\n",
    "\n",
    "ax1.plot(propagation_rates.index, propagation_rates.infected, label= 'infected', linewidth =3)\n",
    "\n",
    "t_phases = np.array([t_initial, t_intro_measures, t_hold, t_relax]).cumsum()\n",
    "\n",
    "\n",
    "ax1.axvspan(0,t_phases[0], facecolor='b', alpha=0.2,label='no measures')\n",
    "ax1.axvspan(t_phases[0],t_phases[1], facecolor='b', alpha=0.3,label='hard measures introduced')\n",
    "ax1.axvspan(t_phases[1],t_phases[2], facecolor='b', alpha=0.4,label='hold measures')\n",
    "ax1.axvspan(t_phases[2],t_phases[3], facecolor='b', alpha=0.5,label='relax measures')\n",
    "ax1.axvspan(t_phases[3],len(propagation_rates.infected), facecolor='b', alpha=0.6,label='repead hard measures')\n",
    "\n",
    "ax1.set_ylim(10, 1.5*max(propagation_rates.infected))\n",
    "ax1.set_yscale('log')\n",
    "ax1.set_title('Scenario SIR simulations (demonstration purpose only)',size =16)\n",
    "ax1.set_xlabel('time in days', size =16)\n",
    "ax1.legend(loc = 'best', prop = {'size':16});"
   ]
  },
  {
   "cell_type": "code",
   "execution_count": 20,
   "metadata": {},
   "outputs": [
    {
     "data": {
      "text/plain": [
       "array([28, 42, 63, 78], dtype=int32)"
      ]
     },
     "execution_count": 20,
     "metadata": {},
     "output_type": "execute_result"
    }
   ],
   "source": [
    "t_phases"
   ]
  },
  {
   "cell_type": "markdown",
   "metadata": {},
   "source": [
    "# Trying to make the dynamic dashboard"
   ]
  },
  {
   "cell_type": "code",
   "execution_count": 21,
   "metadata": {},
   "outputs": [],
   "source": [
    "from click import style\n",
    "import numpy as np\n",
    "import pandas as pd\n",
    "from datetime import datetime \n",
    "\n",
    "from scipy import optimize\n",
    "from scipy import integrate\n",
    "\n",
    "%matplotlib inline\n",
    "\n",
    "import matplotlib as mpl\n",
    "import matplotlib.pyplot as plt\n",
    "\n",
    "import seaborn as sns\n",
    "\n",
    "from scipy import optimize\n",
    "from scipy import integrate\n",
    "\n",
    "sns.set(style='darkgrid')\n",
    "\n",
    "mpl.rcParams['figure.figsize'] = (16,9)\n",
    "pd.set_option('display.max_rows', 500)"
   ]
  },
  {
   "cell_type": "code",
   "execution_count": 22,
   "metadata": {},
   "outputs": [],
   "source": [
    "def SIR_model(SIR, beta, gamma, N0):\n",
    "    S,I,R = SIR\n",
    "    ds_dt = -beta*S*I/N0\n",
    "    dI_dt = beta*S*I/N0-gamma*I\n",
    "    dR_dt = gamma*I\n",
    "\n",
    "    return ([ds_dt, dI_dt, dR_dt])"
   ]
  },
  {
   "cell_type": "code",
   "execution_count": 23,
   "metadata": {},
   "outputs": [],
   "source": [
    "# Dynamic value of the beta\n",
    "t_initial = 28\n",
    "t_intro_measures = 14\n",
    "t_hold = 21\n",
    "t_relax = 15\n",
    "\n",
    "beta_max = 0.3\n",
    "beta_min = 0.2\n",
    "gamma = 0.1\n",
    "\n",
    "pd_beta=np.concatenate((np.array(t_initial*[beta_max]),\n",
    "                       np.linspace(beta_max,beta_min,t_intro_measures),\n",
    "                       np.array(t_hold*[beta_min]),\n",
    "                       np.linspace(beta_min,beta_max,t_relax),\n",
    "                       ))"
   ]
  },
  {
   "cell_type": "code",
   "execution_count": 24,
   "metadata": {},
   "outputs": [],
   "source": [
    "# Creating an empty data frame\n",
    "\n",
    "SIR=np.array([S0,I0,R0])\n",
    "propagation_rates=pd.DataFrame(columns={'susceptible':S0,\n",
    "                                        'infected':I0,\n",
    "                                        'recoverd':R0})"
   ]
  },
  {
   "cell_type": "code",
   "execution_count": null,
   "metadata": {},
   "outputs": [],
   "source": []
  },
  {
   "cell_type": "code",
   "execution_count": null,
   "metadata": {},
   "outputs": [],
   "source": []
  },
  {
   "cell_type": "code",
   "execution_count": null,
   "metadata": {},
   "outputs": [],
   "source": []
  },
  {
   "cell_type": "code",
   "execution_count": null,
   "metadata": {},
   "outputs": [],
   "source": []
  },
  {
   "cell_type": "code",
   "execution_count": null,
   "metadata": {},
   "outputs": [],
   "source": []
  },
  {
   "cell_type": "code",
   "execution_count": null,
   "metadata": {},
   "outputs": [],
   "source": []
  },
  {
   "cell_type": "code",
   "execution_count": null,
   "metadata": {},
   "outputs": [],
   "source": []
  }
 ],
 "metadata": {
  "kernelspec": {
   "display_name": "Python 3 (ipykernel)",
   "language": "python",
   "name": "python3"
  },
  "language_info": {
   "codemirror_mode": {
    "name": "ipython",
    "version": 3
   },
   "file_extension": ".py",
   "mimetype": "text/x-python",
   "name": "python",
   "nbconvert_exporter": "python",
   "pygments_lexer": "ipython3",
   "version": "3.9.12"
  },
  "vscode": {
   "interpreter": {
    "hash": "916dbcbb3f70747c44a77c7bcd40155683ae19c65e1c03b4aa3499c5328201f1"
   }
  }
 },
 "nbformat": 4,
 "nbformat_minor": 2
}
