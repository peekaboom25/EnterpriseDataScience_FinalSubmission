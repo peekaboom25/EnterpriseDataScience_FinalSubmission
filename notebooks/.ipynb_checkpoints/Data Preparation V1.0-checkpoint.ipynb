{
 "cells": [
  {
   "cell_type": "markdown",
   "id": "654fdf05",
   "metadata": {},
   "source": [
    "# Data Visualization"
   ]
  },
  {
   "cell_type": "markdown",
   "id": "895ad44b",
   "metadata": {},
   "source": [
    "Importing the essential libraries"
   ]
  },
  {
   "cell_type": "code",
   "execution_count": 1,
   "id": "463a2b8a",
   "metadata": {},
   "outputs": [],
   "source": [
    "import pandas as pd\n",
    "pd.set_option('display.max_rows',500)\n",
    "\n",
    "import numpy as np\n"
   ]
  },
  {
   "cell_type": "markdown",
   "id": "7cbed609",
   "metadata": {},
   "source": [
    "# John Hopkins data from the GitHub"
   ]
  },
  {
   "cell_type": "markdown",
   "id": "3c1dde74",
   "metadata": {},
   "source": [
    "Embedded git pull in the notebook"
   ]
  },
  {
   "cell_type": "code",
   "execution_count": 2,
   "id": "1453c27c",
   "metadata": {},
   "outputs": [],
   "source": [
    "# git_pull = subprocess.Popen( \"/usr/bin/git pull\" , \n",
    "#                      cwd = os.path.dirname( '../data/raw/COVID-19/' ), \n",
    "#                      shell = True, \n",
    "#                      stdout = subprocess.PIPE, \n",
    "#                      stderr = subprocess.PIPE )\n",
    "# (out, error) = git_pull.communicate()\n",
    "\n",
    "\n",
    "# print(\"Error : \" + str(error)) \n",
    "# print(\"out : \" + str(out))"
   ]
  },
  {
   "cell_type": "code",
   "execution_count": 4,
   "id": "141936e7",
   "metadata": {},
   "outputs": [],
   "source": [
    "path = '../data/raw/COVID-19/time_series_covid19_confirmed_global.csv'\n",
    "pd_raw = pd.read_csv(path)"
   ]
  },
  {
   "cell_type": "code",
   "execution_count": null,
   "id": "b5040745",
   "metadata": {},
   "outputs": [],
   "source": [
    "pd_raw.head()"
   ]
  },
  {
   "cell_type": "markdown",
   "id": "e4d084cd",
   "metadata": {},
   "source": [
    "separate the dates in the dataset"
   ]
  },
  {
   "cell_type": "code",
   "execution_count": null,
   "id": "ff23e934",
   "metadata": {
    "scrolled": true
   },
   "outputs": [],
   "source": [
    "time_idx = pd_raw.columns[4:]\n"
   ]
  },
  {
   "cell_type": "code",
   "execution_count": null,
   "id": "d7266540",
   "metadata": {},
   "outputs": [],
   "source": [
    "df_plot = pd.DataFrame({'date': time_idx})\n",
    "df_plot.head()\n"
   ]
  },
  {
   "cell_type": "code",
   "execution_count": null,
   "id": "5309b43f",
   "metadata": {},
   "outputs": [],
   "source": [
    "len(pd_raw[\"Country/Region\"]) # Finding the total number of countries in the dataset"
   ]
  },
  {
   "cell_type": "code",
   "execution_count": null,
   "id": "18de081d",
   "metadata": {},
   "outputs": [],
   "source": [
    "pd_raw.head()"
   ]
  },
  {
   "cell_type": "code",
   "execution_count": null,
   "id": "df932141",
   "metadata": {
    "scrolled": true
   },
   "outputs": [],
   "source": [
    "pd_raw[pd_raw[\"Country/Region\"]=='US'].iloc[:,4::].sum(axis=0)"
   ]
  },
  {
   "cell_type": "code",
   "execution_count": null,
   "id": "338c554a",
   "metadata": {},
   "outputs": [],
   "source": [
    "country_list = ['India', 'US', 'Italy', 'France', 'Vietnam', 'Germany']\n"
   ]
  },
  {
   "cell_type": "code",
   "execution_count": null,
   "id": "e6335a7e",
   "metadata": {},
   "outputs": [],
   "source": [
    "for each in country_list:\n",
    "    df_plot[each] = np.array(pd_raw[pd_raw[\"Country/Region\"]==each].iloc[:,4::].sum(axis = 0))"
   ]
  },
  {
   "cell_type": "code",
   "execution_count": null,
   "id": "08aba48a",
   "metadata": {},
   "outputs": [],
   "source": [
    "%matplotlib inline\n",
    "df_plot.set_index('date').plot()"
   ]
  },
  {
   "cell_type": "markdown",
   "id": "7955decc",
   "metadata": {},
   "source": [
    "# Data type Date"
   ]
  },
  {
   "cell_type": "code",
   "execution_count": null,
   "id": "f5daf48f",
   "metadata": {},
   "outputs": [],
   "source": [
    "# Changing the date time format\n",
    "\n",
    "from datetime import datetime"
   ]
  },
  {
   "cell_type": "code",
   "execution_count": null,
   "id": "3652478c",
   "metadata": {},
   "outputs": [],
   "source": [
    "time_idx = [datetime.strptime(each,'%m/%d/%y')for each in df_plot.date]\n",
    "time_str = [each.strftime('%y-%m-%d')for each in time_idx]\n",
    "time_str[0:5]"
   ]
  },
  {
   "cell_type": "code",
   "execution_count": null,
   "id": "55c5efea",
   "metadata": {},
   "outputs": [],
   "source": [
    "df_plot['date'] = time_idx\n",
    "type(df_plot['date'][0])"
   ]
  },
  {
   "cell_type": "code",
   "execution_count": null,
   "id": "500fe76d",
   "metadata": {},
   "outputs": [],
   "source": [
    "df_plot.head()"
   ]
  },
  {
   "cell_type": "code",
   "execution_count": null,
   "id": "ad06cdf1",
   "metadata": {},
   "outputs": [],
   "source": [
    "df_plot.to_csv('../data/processed/COVID_small_flat_table.csv', sep = ';', index = False)"
   ]
  },
  {
   "cell_type": "markdown",
   "id": "6692e97d",
   "metadata": {},
   "source": [
    "# Relational Data Model - defining primary key"
   ]
  },
  {
   "cell_type": "code",
   "execution_count": null,
   "id": "9d8129f4",
   "metadata": {},
   "outputs": [],
   "source": [
    "path = '../data/raw/COVID-19/time_series_covid19_confirmed_global.csv'\n",
    "pd_raw = pd.read_csv(path)\n",
    "\n",
    "pd_raw.head()"
   ]
  },
  {
   "cell_type": "code",
   "execution_count": null,
   "id": "501621bd",
   "metadata": {},
   "outputs": [],
   "source": [
    "pd_data_base = pd_raw.rename(columns = {'Country/Region': 'country', \n",
    "                              'Province/State': 'state'})"
   ]
  },
  {
   "cell_type": "code",
   "execution_count": null,
   "id": "ca166d92",
   "metadata": {},
   "outputs": [],
   "source": [
    "pd_data_base = pd_data_base.drop(['Lat', 'Long'], axis =1)\n",
    "pd_data_base.head()"
   ]
  },
  {
   "cell_type": "code",
   "execution_count": null,
   "id": "0262ba0d",
   "metadata": {},
   "outputs": [],
   "source": [
    "pd_relational_model = pd_data_base.set_index(['state', 'country'])\\\n",
    "                                    .T \\\n",
    "                                    .stack(level=[0,1]) \\\n",
    "                                    .reset_index() \\\n",
    "                                    .rename(columns = {'level_0': 'date', 0: 'confirmed'})\n",
    "\n",
    "pd_relational_model.head()"
   ]
  },
  {
   "cell_type": "code",
   "execution_count": null,
   "id": "93b67bb3",
   "metadata": {},
   "outputs": [],
   "source": [
    "pd_relational_model.dtypes"
   ]
  },
  {
   "cell_type": "code",
   "execution_count": null,
   "id": "91a32028",
   "metadata": {},
   "outputs": [],
   "source": [
    "pd_relational_model['date'] = pd_relational_model.date.astype('datetime64[ns]')"
   ]
  },
  {
   "cell_type": "code",
   "execution_count": null,
   "id": "7157ef3a",
   "metadata": {},
   "outputs": [],
   "source": [
    "pd_relational_model.dtypes\n"
   ]
  },
  {
   "cell_type": "code",
   "execution_count": null,
   "id": "463a7dce",
   "metadata": {},
   "outputs": [],
   "source": [
    "pd_relational_model.to_csv('/media/dell/6AA88A06A889D14D/EDS/data/processed/COVID_relational_confirmed.csv', sep = ';')"
   ]
  },
  {
   "cell_type": "code",
   "execution_count": null,
   "id": "4ce08781",
   "metadata": {},
   "outputs": [],
   "source": [
    "pd_JH_data = pd.read_csv('../data/processed/COVID_relational_confirmed.csv',sep = ';', parse_dates= [0])\n",
    "pd_JH_data = pd_JH_data.sort_values('date', ascending= True).reset_index(drop=True).copy()\n",
    "pd_JH_data.head()"
   ]
  },
  {
   "cell_type": "code",
   "execution_count": null,
   "id": "61f552bd",
   "metadata": {},
   "outputs": [],
   "source": [
    "test_data = pd_JH_data[(pd_JH_data['country']=='US')|\n",
    "                        (pd_JH_data['country']=='Germany')&\n",
    "                        (pd_JH_data['date']>'2022-06-10')]"
   ]
  },
  {
   "cell_type": "code",
   "execution_count": null,
   "id": "9c134a53",
   "metadata": {},
   "outputs": [],
   "source": [
    "test_data"
   ]
  },
  {
   "cell_type": "code",
   "execution_count": null,
   "id": "16a4db1a",
   "metadata": {},
   "outputs": [],
   "source": []
  },
  {
   "cell_type": "code",
   "execution_count": null,
   "id": "dec8159c",
   "metadata": {},
   "outputs": [],
   "source": [
    "test_data.groupby(['country']).agg(np.max)"
   ]
  },
  {
   "cell_type": "code",
   "execution_count": null,
   "id": "ff407a7d",
   "metadata": {},
   "outputs": [],
   "source": [
    "# %load src/features/build_features.py\n",
    "\n",
    "import numpy as np\n",
    "from sklearn import linear_model\n",
    "reg = linear_model.LinearRegression(fit_intercept=True)\n",
    "import pandas as pd\n",
    "\n",
    "from scipy import signal\n",
    "\n",
    "\n",
    "def get_doubling_time_via_regression(in_array):\n",
    "    \n",
    "    # y = np.array(in_array['confirmed'])\n",
    "    # X =np.arange(len(y)).reshape(-1,1)\n",
    "\n",
    "    y = np.array(in_array)\n",
    "    X = np.arange(-1,2).reshape(-1, 1)\n",
    "\n",
    "    \n",
    "    assert len(in_array)==3\n",
    "    reg.fit(X,y)\n",
    "    intercept=reg.intercept_\n",
    "    slope=reg.coef_\n",
    "\n",
    "    return intercept/slope\n",
    "\n",
    "\n",
    "\n",
    "\n",
    "# if __name__ == '__main__':\n",
    "#     test_data_reg=np.array([2,4,6])\n",
    "#     result=get_doubling_time_via_regression(test_data_reg)\n",
    "#     print('the test slope is: '+str(result))\n",
    "\n",
    "    "
   ]
  },
  {
   "cell_type": "code",
   "execution_count": null,
   "id": "92769e56",
   "metadata": {},
   "outputs": [],
   "source": [
    "test_data['state'] = test_data['state'].fillna(0)\n",
    "test_data.groupby(['state','country']).agg(np.max)"
   ]
  },
  {
   "cell_type": "code",
   "execution_count": null,
   "id": "57a02eb5",
   "metadata": {},
   "outputs": [],
   "source": [
    "# test_data.groupby(['state','country']).apply(get_doubling_time_via_regression)"
   ]
  },
  {
   "cell_type": "code",
   "execution_count": null,
   "id": "1af44dbd",
   "metadata": {},
   "outputs": [],
   "source": [
    "def rolling_reg(df_input, col = 'confirmed'):\n",
    "    days_back = 3\n",
    "    result = df_input[col].rolling(\n",
    "                                    window = days_back,\n",
    "                                    min_periods = days_back). apply(get_doubling_time_via_regression, raw =False)\n",
    "\n",
    "    return result\n",
    "    \n"
   ]
  },
  {
   "cell_type": "code",
   "execution_count": null,
   "id": "19432531",
   "metadata": {},
   "outputs": [],
   "source": [
    "test_data[['state','country','confirmed']].groupby(['state','country']).apply(rolling_reg,'confirmed')"
   ]
  },
  {
   "cell_type": "code",
   "execution_count": null,
   "id": "8550dc67",
   "metadata": {},
   "outputs": [],
   "source": [
    "pd_DR_result = pd_JH_data[['state','country','confirmed']].groupby(['state','country']).apply(rolling_reg,'confirmed').reset_index()"
   ]
  },
  {
   "cell_type": "code",
   "execution_count": null,
   "id": "3c31ce55",
   "metadata": {},
   "outputs": [],
   "source": [
    "pd_DR_result = pd_DR_result.rename(columns= {'confirmed':'doubling_rate', 'level_2': 'index'})\n",
    "\n",
    "pd_DR_result.head()\n",
    "\n",
    "pd_DR_result['index'].dtype"
   ]
  },
  {
   "cell_type": "code",
   "execution_count": null,
   "id": "677573b9",
   "metadata": {},
   "outputs": [],
   "source": [
    "pd_JH_data.reset_index()\n",
    "pd_JH_data.rename(columns={'Unnamed: 0':'index'}, inplace=True)\n",
    "pd_JH_data['index'] = pd_JH_data['index'].astype(int)\n",
    "pd_JH_data.head()\n",
    "\n",
    "pd_JH_data['index'].dtype\n",
    "\n"
   ]
  },
  {
   "cell_type": "code",
   "execution_count": null,
   "id": "cef64b7c",
   "metadata": {},
   "outputs": [],
   "source": [
    "pd_result_large = pd.merge(pd_JH_data, pd_DR_result[['index' ,'doubling_rate']], on = ['index'], how = 'left')"
   ]
  },
  {
   "cell_type": "code",
   "execution_count": null,
   "id": "043e5f97",
   "metadata": {},
   "outputs": [],
   "source": [
    "pd_result_large[pd_result_large['country']=='Germany']"
   ]
  },
  {
   "cell_type": "code",
   "execution_count": null,
   "id": "476a096e",
   "metadata": {},
   "outputs": [],
   "source": []
  }
 ],
 "metadata": {
  "kernelspec": {
   "display_name": "Python 3 (ipykernel)",
   "language": "python",
   "name": "python3"
  },
  "language_info": {
   "codemirror_mode": {
    "name": "ipython",
    "version": 3
   },
   "file_extension": ".py",
   "mimetype": "text/x-python",
   "name": "python",
   "nbconvert_exporter": "python",
   "pygments_lexer": "ipython3",
   "version": "3.9.12"
  },
  "vscode": {
   "interpreter": {
    "hash": "7405ffe96af20e6eea6f5a4d99e8362594a740365b84ac63f48521bcc4142b6a"
   }
  }
 },
 "nbformat": 4,
 "nbformat_minor": 5
}
